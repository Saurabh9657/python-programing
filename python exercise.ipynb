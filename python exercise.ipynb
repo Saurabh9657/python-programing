{
  "cells": [
    {
      "cell_type": "markdown",
      "metadata": {
        "id": "gUnXQ3lp6LOH"
      },
      "source": [
        "## Python Basic Programming Exercises"
      ]
    },
    {
      "cell_type": "code",
      "execution_count": 26,
      "metadata": {
        "colab": {
          "base_uri": "https://localhost:8080/"
        },
        "id": "lVeF6VCq6LON",
        "outputId": "a979dfb8-2a40-4d48-9521-bcb752893cda"
      },
      "outputs": [
        {
          "output_type": "stream",
          "name": "stdout",
          "text": [
            "4.0\n"
          ]
        }
      ],
      "source": [
        "#Q1: What is the output of following expression\n",
        "print(5 + 4 * 9 % (3 + 1) / 6 - 1)"
      ]
    },
    {
      "cell_type": "code",
      "execution_count": 27,
      "metadata": {
        "colab": {
          "base_uri": "https://localhost:8080/"
        },
        "id": "3lOZ5PRt6LOO",
        "outputId": "366fd989-1d4d-4411-dc3a-f985eba8e925"
      },
      "outputs": [
        {
          "output_type": "stream",
          "name": "stdout",
          "text": [
            "Enter any number: 6\n",
            "Number is Even.\n"
          ]
        }
      ],
      "source": [
        "#Q2: Write a program to check if a Number is Odd or Even. Take number as a input from user at runtime.\n",
        "num = int(input(\"Enter any number: \"))\n",
        "if num % 2 == 0:\n",
        "  print(\"Number is Even.\")\n",
        "else:\n",
        "  print(\"Number is Odd.\")"
      ]
    },
    {
      "cell_type": "code",
      "execution_count": 28,
      "metadata": {
        "colab": {
          "base_uri": "https://localhost:8080/"
        },
        "id": "_IyUDkls6LOQ",
        "outputId": "f299f30b-4652-4b92-ebac-0c147fb68f5b"
      },
      "outputs": [
        {
          "output_type": "stream",
          "name": "stdout",
          "text": [
            "Enter any number: 9\n",
            "9 x 1 = 9\n",
            "9 x 2 = 18\n",
            "9 x 3 = 27\n",
            "9 x 4 = 36\n",
            "9 x 5 = 45\n",
            "9 x 6 = 54\n",
            "9 x 7 = 63\n",
            "9 x 8 = 72\n",
            "9 x 9 = 81\n",
            "9 x 10 = 90\n"
          ]
        }
      ],
      "source": [
        "#Q3: Write a program to display the multiplication table by taking a number as input.\n",
        "    #[Hint : Use print statement inside of a loop]\n",
        "num = int(input(\"Enter any number: \"))\n",
        "for i in range(1,11):\n",
        "  print(f\"{num} x {i} = {num*i}\")"
      ]
    },
    {
      "cell_type": "code",
      "execution_count": 29,
      "metadata": {
        "colab": {
          "base_uri": "https://localhost:8080/"
        },
        "id": "Y8dGN6wf6LOR",
        "outputId": "ac4fda0e-9425-4c47-9c2e-da7333b6dcd3"
      },
      "outputs": [
        {
          "output_type": "stream",
          "name": "stdout",
          "text": [
            "2002\n",
            "2009\n",
            "2016\n",
            "2023\n",
            "2037\n",
            "2044\n",
            "2051\n",
            "2058\n",
            "2072\n",
            "2079\n",
            "2086\n",
            "2093\n",
            "2107\n",
            "2114\n",
            "2121\n",
            "2128\n",
            "2142\n",
            "2149\n",
            "2156\n",
            "2163\n",
            "2177\n",
            "2184\n",
            "2191\n",
            "2198\n",
            "2212\n",
            "2219\n",
            "2226\n",
            "2233\n",
            "2247\n",
            "2254\n",
            "2261\n",
            "2268\n",
            "2282\n",
            "2289\n",
            "2296\n",
            "2303\n",
            "2317\n",
            "2324\n",
            "2331\n",
            "2338\n",
            "2352\n",
            "2359\n",
            "2366\n",
            "2373\n",
            "2387\n",
            "2394\n",
            "2401\n",
            "2408\n",
            "2422\n",
            "2429\n",
            "2436\n",
            "2443\n",
            "2457\n",
            "2464\n",
            "2471\n",
            "2478\n",
            "2492\n",
            "2499\n",
            "2506\n",
            "2513\n",
            "2527\n",
            "2534\n",
            "2541\n",
            "2548\n",
            "2562\n",
            "2569\n",
            "2576\n",
            "2583\n",
            "2597\n",
            "2604\n",
            "2611\n",
            "2618\n",
            "2632\n",
            "2639\n",
            "2646\n",
            "2653\n",
            "2667\n",
            "2674\n",
            "2681\n",
            "2688\n",
            "2702\n",
            "2709\n",
            "2716\n",
            "2723\n",
            "2737\n",
            "2744\n",
            "2751\n",
            "2758\n",
            "2772\n",
            "2779\n",
            "2786\n",
            "2793\n",
            "2807\n",
            "2814\n",
            "2821\n",
            "2828\n",
            "2842\n",
            "2849\n",
            "2856\n",
            "2863\n",
            "2877\n",
            "2884\n",
            "2891\n",
            "2898\n",
            "2912\n",
            "2919\n",
            "2926\n",
            "2933\n",
            "2947\n",
            "2954\n",
            "2961\n",
            "2968\n",
            "2982\n",
            "2989\n",
            "2996\n",
            "3003\n",
            "3017\n",
            "3024\n",
            "3031\n",
            "3038\n",
            "3052\n",
            "3059\n",
            "3066\n",
            "3073\n",
            "3087\n",
            "3094\n",
            "3101\n",
            "3108\n",
            "3122\n",
            "3129\n",
            "3136\n",
            "3143\n",
            "3157\n",
            "3164\n",
            "3171\n",
            "3178\n",
            "3192\n",
            "3199\n"
          ]
        }
      ],
      "source": [
        "#Q4: Write a program which will find all numbers between 2000 and 3200 which are divisible by 7 but are not a multiple of 5.\n",
        "#Note: The numbers obtained should be printed in a comma-separated sequence on a single line.\n",
        "for i in range(2000,3201):\n",
        "  if i % 7 == 0 and i % 5 != 0:\n",
        "    print(i)"
      ]
    },
    {
      "cell_type": "code",
      "execution_count": 30,
      "metadata": {
        "colab": {
          "base_uri": "https://localhost:8080/"
        },
        "id": "Wd71IkIa6LOS",
        "outputId": "6ef365ff-e517-41c7-ee31-b0407aeaa810"
      },
      "outputs": [
        {
          "output_type": "stream",
          "name": "stdout",
          "text": [
            "int: 5\n",
            "str: 4\n",
            "float: 1\n",
            "bool: 1\n",
            "NoneType: 1\n"
          ]
        }
      ],
      "source": [
        "#Q5: Count the elements of each datatype inside the list and display in output\n",
        "list = [2, 3, 'Py', '10', 1, 'SQL', 5.5, True, 3, 'John', None, 7]\n",
        "\n",
        "int_count = 0\n",
        "str_count = 0\n",
        "float_count = 0\n",
        "bool_count = 0\n",
        "none_count = 0\n",
        "\n",
        "for element in list:\n",
        "    if type(element) == int:\n",
        "        int_count += 1\n",
        "    elif type(element) == str:\n",
        "        str_count += 1\n",
        "    elif type(element) == float:\n",
        "        float_count += 1\n",
        "    elif type(element) == bool:\n",
        "        bool_count += 1\n",
        "    elif type(element) == type(None):\n",
        "        none_count += 1\n",
        "\n",
        "print(\"int:\", int_count)\n",
        "print(\"str:\", str_count)\n",
        "print(\"float:\", float_count)\n",
        "print(\"bool:\", bool_count)\n",
        "print(\"NoneType:\", none_count)"
      ]
    },
    {
      "cell_type": "code",
      "execution_count": 31,
      "metadata": {
        "colab": {
          "base_uri": "https://localhost:8080/"
        },
        "id": "bhbr1I5d6LOS",
        "outputId": "0fb01cb8-4cf8-48d5-e8b5-db32c62b0ca2"
      },
      "outputs": [
        {
          "output_type": "stream",
          "name": "stdout",
          "text": [
            "Total sum of numeric values: 22.5\n"
          ]
        }
      ],
      "source": [
        "#Q6: Add all values from the list with numeric datatypes\n",
        "list = [2, 3, 'Py', '10', 1, 'SQL', 5.5, True, 3, 'John', None, 7]\n",
        "\n",
        "total_sum = 0\n",
        "\n",
        "for element in list:\n",
        "    if type(element) == int or type(element) == float or type(element) == bool:\n",
        "        total_sum += element\n",
        "\n",
        "print(\"Total sum of numeric values:\", total_sum)"
      ]
    },
    {
      "cell_type": "code",
      "execution_count": 32,
      "metadata": {
        "colab": {
          "base_uri": "https://localhost:8080/"
        },
        "id": "Sa-S5amh6LOT",
        "outputId": "6291f99b-48f2-4b39-c618-f925b9de82c0"
      },
      "outputs": [
        {
          "output_type": "stream",
          "name": "stdout",
          "text": [
            "Concatenated string: Py-10-SQL-John\n"
          ]
        }
      ],
      "source": [
        "#Q7: Concat all str datatypes with hyphen as a delimiter\n",
        "list = [2, 3, 'Py', '10', 1, 'SQL', 5.5, True, 3, 'John', None, 7]\n",
        "\n",
        "concat_string = \"\"\n",
        "\n",
        "for element in list:\n",
        "    if type(element) == str:\n",
        "        if concat_string == \"\":\n",
        "            concat_string = element\n",
        "        else:\n",
        "            concat_string += \"-\" + element\n",
        "\n",
        "print(\"Concatenated string:\", concat_string)"
      ]
    },
    {
      "cell_type": "code",
      "execution_count": 33,
      "metadata": {
        "colab": {
          "base_uri": "https://localhost:8080/"
        },
        "id": "dpGfvI8v6LOT",
        "outputId": "e4543ddb-a47b-4625-d832-abd570cfbcd3"
      },
      "outputs": [
        {
          "output_type": "stream",
          "name": "stdout",
          "text": [
            "Odd numbers : [5, 7, 97, 77, 23, 73, 61]\n",
            "Odd numbers : [5, 7, 97, 77, 23, 73, 61]\n",
            "Odd numbers : [5, 7, 97, 77, 23, 73, 61]\n"
          ]
        }
      ],
      "source": [
        "#Q8 Get only odd numbers from the following list and store the numbers in new list\n",
        "li = [5, 7, 22, 97, 54, 62, 77, 23, 73, 61]\n",
        "\n",
        "#i. Use loops to get the answer\n",
        "odd_numbers = []\n",
        "\n",
        "for num in li:\n",
        "    if num % 2 != 0:\n",
        "        odd_numbers.append(num)\n",
        "\n",
        "print(\"Odd numbers :\", odd_numbers)\n",
        "\n",
        "#ii. Use list comprehensions\n",
        "odd_numbers = [num for num in li if num % 2 != 0]\n",
        "print(\"Odd numbers :\", odd_numbers)\n",
        "\n",
        "#iii. Use lambda function with filter\n",
        "is_odd = lambda x: x % 2 != 0\n",
        "\n",
        "odd_numbers = []\n",
        "for num in li:\n",
        "    if is_odd(num):\n",
        "        odd_numbers.append(num)\n",
        "\n",
        "print(\"Odd numbers :\", odd_numbers)"
      ]
    },
    {
      "cell_type": "code",
      "execution_count": 37,
      "metadata": {
        "colab": {
          "base_uri": "https://localhost:8080/"
        },
        "id": "3yEevOfd6LOU",
        "outputId": "a02d845b-bd45-4dfd-8113-3b957f4f03b0"
      },
      "outputs": [
        {
          "output_type": "stream",
          "name": "stdout",
          "text": [
            "25\n",
            "24\n",
            "28.274333882308138\n"
          ]
        }
      ],
      "source": [
        "#Q9: Write an udf to calculate the area of different shapes\n",
        "#Take shape and dimensions as arguments to udf as follows :\n",
        "#1. square which has side\n",
        "#2. rectangle which has length and width\n",
        "#3. circle which has radius\n",
        "#The shape should be a positional argument and it's dimensions are taken as kwargs\n",
        "#Perform proper validation for the user inputs and then calculate area.\n",
        "#E.g. if shape is square, ensure kwargs has \"side\" and if so, then you may return the area, else display appropriate error message like \"Please enter 'side' for a square\"\n",
        "import math\n",
        "\n",
        "def calculate_area(shape, **kwargs):\n",
        "    \"\"\"\n",
        "    Calculate the area of different shapes.\n",
        "\n",
        "    Args:\n",
        "        shape (str): The type of shape (square, rectangle, circle)\n",
        "        **kwargs: Keyword arguments for the shape dimensions\n",
        "\n",
        "    Returns:\n",
        "        float: The area of the shape\n",
        "    \"\"\"\n",
        "    if shape == \"square\":\n",
        "        if \"side\" in kwargs:\n",
        "            side = kwargs[\"side\"]\n",
        "            if side > 0:\n",
        "                return side ** 2\n",
        "            else:\n",
        "                return \"Error: Side length must be positive.\"\n",
        "        else:\n",
        "            return \"Error: Please enter 'side' for a square.\"\n",
        "    elif shape == \"rectangle\":\n",
        "        if \"length\" in kwargs and \"width\" in kwargs:\n",
        "            length = kwargs[\"length\"]\n",
        "            width = kwargs[\"width\"]\n",
        "            if length > 0 and width > 0:\n",
        "                return length * width\n",
        "            else:\n",
        "                return \"Error: Length and width must be positive.\"\n",
        "        else:\n",
        "            return \"Error: Please enter 'length' and 'width' for a rectangle.\"\n",
        "    elif shape == \"circle\":\n",
        "        if \"radius\" in kwargs:\n",
        "            radius = kwargs[\"radius\"]\n",
        "            if radius > 0:\n",
        "                return math.pi * (radius ** 2)\n",
        "            else:\n",
        "                return \"Error: Radius must be positive.\"\n",
        "        else:\n",
        "            return \"Error: Please enter 'radius' for a circle.\"\n",
        "    else:\n",
        "        return \"Error: Invalid shape. Please enter 'square', 'rectangle', or 'circle'.\"\n",
        "\n",
        "print(calculate_area(\"square\", side=5))\n",
        "print(calculate_area(\"rectangle\", length=4, width=6))\n",
        "print(calculate_area(\"circle\", radius=3))\n",
        ""
      ]
    },
    {
      "cell_type": "code",
      "source": [
        "#Q10: write a UDF to check if a number is prime or not.\n",
        "def is_prime(number):\n",
        "    if number <= 1:\n",
        "        return f\"{number} is not a prime number.\"\n",
        "\n",
        "    for i in range(2, int(number**0.5) + 1):\n",
        "        if number % i == 0:\n",
        "            return f\"{number} is not a prime number.\"\n",
        "\n",
        "    return f\"{number} is a prime number.\"\n",
        "\n",
        "try:\n",
        "    user_input = int(input(\"Enter a number to check if it is prime: \"))\n",
        "    result = is_prime(user_input)\n",
        "    print(result)\n",
        "except ValueError:\n",
        "    print(\"Please enter a valid integer.\")\n"
      ],
      "metadata": {
        "colab": {
          "base_uri": "https://localhost:8080/"
        },
        "id": "mbuuKEYI9xZQ",
        "outputId": "87b3f5f8-56f2-4769-9496-05092511b613"
      },
      "execution_count": 35,
      "outputs": [
        {
          "output_type": "stream",
          "name": "stdout",
          "text": [
            "Enter a number to check if it is prime: 7\n",
            "7 is a prime number.\n"
          ]
        }
      ]
    },
    {
      "cell_type": "code",
      "execution_count": 36,
      "metadata": {
        "colab": {
          "base_uri": "https://localhost:8080/"
        },
        "id": "M_mnY39U6LOV",
        "outputId": "fa506f29-2cd2-4088-987e-b1928f86907b"
      },
      "outputs": [
        {
          "output_type": "stream",
          "name": "stdout",
          "text": [
            "Enter a string: rew89hf783gf78\n",
            "Reversed string: 87fg387fh98wer\n"
          ]
        }
      ],
      "source": [
        "#Q11. Write a program that takes a string and returns reversed string. i.e. if input is \"abcd123\" output should be \"321dcba\"\n",
        "user_input = input(\"Enter a string: \")\n",
        "\n",
        "reversed_string = \"\"\n",
        "\n",
        "for i in range(len(user_input) - 1, -1, -1):\n",
        "    reversed_string += user_input[i]\n",
        "\n",
        "print(\"Reversed string:\", reversed_string)"
      ]
    }
  ],
  "metadata": {
    "kernelspec": {
      "display_name": "Python 3 (ipykernel)",
      "language": "python",
      "name": "python3"
    },
    "language_info": {
      "codemirror_mode": {
        "name": "ipython",
        "version": 3
      },
      "file_extension": ".py",
      "mimetype": "text/x-python",
      "name": "python",
      "nbconvert_exporter": "python",
      "pygments_lexer": "ipython3",
      "version": "3.12.4"
    },
    "varInspector": {
      "cols": {
        "lenName": 16,
        "lenType": 16,
        "lenVar": 40
      },
      "kernels_config": {
        "python": {
          "delete_cmd_postfix": "",
          "delete_cmd_prefix": "del ",
          "library": "var_list.py",
          "varRefreshCmd": "print(var_dic_list())"
        },
        "r": {
          "delete_cmd_postfix": ") ",
          "delete_cmd_prefix": "rm(",
          "library": "var_list.r",
          "varRefreshCmd": "cat(var_dic_list()) "
        }
      },
      "types_to_exclude": [
        "module",
        "function",
        "builtin_function_or_method",
        "instance",
        "_Feature"
      ],
      "window_display": false
    },
    "colab": {
      "provenance": []
    }
  },
  "nbformat": 4,
  "nbformat_minor": 0
}